{
 "cells": [
  {
   "attachments": {},
   "cell_type": "markdown",
   "metadata": {},
   "source": [
    "Page Rank for link analysis using python \n",
    "Create a small set of pages namely page1, page2, page3 and page4 apply random walk on the same"
   ]
  },
  {
   "cell_type": "code",
   "execution_count": 8,
   "metadata": {},
   "outputs": [
    {
     "name": "stdout",
     "output_type": "stream",
     "text": [
      "PageRank using Random Walk Method\n",
      "[1 3 2 0]\n"
     ]
    }
   ],
   "source": [
    "import networkx as nx\n",
    "import random\n",
    "import numpy as np\n",
    "\n",
    "# Add directed edges in graph\n",
    "def add_edges(g, pr):\n",
    "\tfor each in g.nodes():\n",
    "\t\tfor each1 in g.nodes():\n",
    "\t\t\tif (each != each1):\n",
    "\t\t\t\tra = random.random()\n",
    "\t\t\t\tif (ra < pr):\n",
    "\t\t\t\t\tg.add_edge(each, each1)\n",
    "\t\t\t\telse:\n",
    "\t\t\t\t\tcontinue\n",
    "\treturn g\n",
    "\n",
    "# Sort the nodes\n",
    "def nodes_sorted(g, points):\n",
    "\tt = np.array(points)\n",
    "\tt = np.argsort(-t)\n",
    "\treturn t\n",
    "\n",
    "# Distribute points randomly in a graph\n",
    "def random_Walk(g):\n",
    "\trwp = [0 for i in range(g.number_of_nodes())]\n",
    "\tnodes = list(g.nodes())\n",
    "\tr = random.choice(nodes)\n",
    "\trwp[r] += 1\n",
    "\tneigh = list(g.out_edges(r))\n",
    "\tz = 0\n",
    "\t\n",
    "\twhile (z != 10000):\n",
    "\t\tif (len(neigh) == 0):\n",
    "\t\t\tfocus = random.choice(nodes)\n",
    "\t\telse:\n",
    "\t\t\tr1 = random.choice(neigh)\n",
    "\t\t\tfocus = r1[1]\n",
    "\t\trwp[focus] += 1\n",
    "\t\tneigh = list(g.out_edges(focus))\n",
    "\t\tz += 1\n",
    "\treturn rwp\n",
    "\n",
    "\n",
    "# Main\n",
    "# 1. Create a directed graph with N nodes\n",
    "g = nx.DiGraph()\n",
    "N = 4\n",
    "g.add_nodes_from(range(N))\n",
    "\n",
    "# 2. Add directed edges in graph\n",
    "g = add_edges(g, 0.4)\n",
    "\n",
    "# 3. perform a random walk\n",
    "points = random_Walk(g)\n",
    "\n",
    "# 4. Get nodes rank according to their random walk points\n",
    "sorted_by_points = nodes_sorted(g, points)\n",
    "print(\"PageRank using Random Walk Method\")\n",
    "print(sorted_by_points)"
   ]
  }
 ],
 "metadata": {
  "kernelspec": {
   "display_name": "Python 3",
   "language": "python",
   "name": "python3"
  },
  "language_info": {
   "codemirror_mode": {
    "name": "ipython",
    "version": 3
   },
   "file_extension": ".py",
   "mimetype": "text/x-python",
   "name": "python",
   "nbconvert_exporter": "python",
   "pygments_lexer": "ipython3",
   "version": "3.10.6"
  },
  "orig_nbformat": 4
 },
 "nbformat": 4,
 "nbformat_minor": 2
}
