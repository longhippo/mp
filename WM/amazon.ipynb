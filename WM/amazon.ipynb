{
 "cells": [
  {
   "cell_type": "code",
   "execution_count": 13,
   "metadata": {},
   "outputs": [
    {
     "name": "stdout",
     "output_type": "stream",
     "text": [
      "            Title    Price             Description\n",
      "0       Nokia 123   $24.99           7 day battery\n",
      "1      LG Optimus   $57.99             3.2\" screen\n",
      "2  Samsung Galaxy   $93.99      5 mpx. Android 5.0\n",
      "3         Nokia X  $109.99  Andoid, Jolla dualboot\n",
      "4     Sony Xperia  $118.99         GPS, waterproof\n",
      "5     Ubuntu Edge  $499.99          Sapphire glass\n",
      "6          Iphone  $899.99                   White\n",
      "7          Iphone  $899.99                  Silver\n",
      "8          Iphone  $899.99                   Black\n"
     ]
    }
   ],
   "source": [
    "import requests\n",
    "from bs4 import BeautifulSoup\n",
    "import pandas as pd\n",
    "\n",
    "url = \"https://webscraper.io/test-sites/e-commerce/allinone/phones/touch\"\n",
    "response = requests.get(url)\n",
    "soup = BeautifulSoup(response.content, \"html.parser\")\n",
    "phones = soup.find_all(\"div\", {\"class\": \"col-sm-4 col-lg-4 col-md-4\"})\n",
    "titles = []\n",
    "prices = []\n",
    "descriptions = []\n",
    "\n",
    "for phone in phones:\n",
    "    title = phone.find(\"a\", {\"class\": \"title\"}).text.strip()\n",
    "    price = phone.find(\"h4\", {\"class\": \"pull-right price\"}).text.strip()\n",
    "    description = phone.find(\"p\", {\"class\": \"description\"}).text.strip()\n",
    "    \n",
    "    titles.append(title)\n",
    "    prices.append(price)\n",
    "    descriptions.append(description)\n",
    "\n",
    "df = pd.DataFrame({\n",
    "    \"Title\": titles,\n",
    "    \"Price\": prices,\n",
    "    \"Description\": descriptions,\n",
    "})\n",
    "\n",
    "print(df)"
   ]
  },
  {
   "cell_type": "code",
   "execution_count": 17,
   "metadata": {},
   "outputs": [],
   "source": [
    "# Note :- Extras\n",
    "\n",
    "import pymysql\n",
    "from sqlalchemy import create_engine\n",
    "\n",
    "host = \"localhost\"\n",
    "user = \"subodh\"    # change as per your machine\n",
    "password = \"\"      # set it as per your machine\n",
    "database = \"test\"  # set as per as your machine\n",
    "table_name = \"phones\"\n",
    "\n",
    "conn = pymysql.connect(host=host, user=user, password=password, database=database)\n",
    "engine = create_engine(f\"mysql+pymysql://{user}:{password}@{host}/{database}\")\n",
    "df.to_sql(name=table_name, con=engine, if_exists=\"replace\", index=False)\n",
    "\n",
    "conn.close()\n",
    "\n",
    "\n",
    "\n",
    "# commands in mysql\n",
    "#---------------------\n",
    "#create database test;\n",
    "#use database test;\n",
    "#select * from phones;"
   ]
  },
  {
   "attachments": {},
   "cell_type": "markdown",
   "metadata": {},
   "source": [
    "# Output\n",
    "\n",
    "![practical_1](https://github.com/tusuii/All-Pracs/blob/main/Web_mining/screenshot-20230423-160000.png?raw=false)"
   ]
  }
 ],
 "metadata": {
  "kernelspec": {
   "display_name": "scrapping",
   "language": "python",
   "name": "python3"
  },
  "language_info": {
   "codemirror_mode": {
    "name": "ipython",
    "version": 3
   },
   "file_extension": ".py",
   "mimetype": "text/x-python",
   "name": "python",
   "nbconvert_exporter": "python",
   "pygments_lexer": "ipython3",
   "version": "3.10.6"
  },
  "orig_nbformat": 4
 },
 "nbformat": 4,
 "nbformat_minor": 2
}
